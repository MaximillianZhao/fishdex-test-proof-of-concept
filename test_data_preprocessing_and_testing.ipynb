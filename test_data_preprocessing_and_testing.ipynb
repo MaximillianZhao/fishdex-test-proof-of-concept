{
 "cells": [
  {
   "cell_type": "code",
   "execution_count": 1,
   "id": "a1632d8f",
   "metadata": {},
   "outputs": [],
   "source": [
    "import os\n",
    "from pathlib import Path\n",
    "import numpy as np\n",
    "from tensorflow.keras.models import load_model\n",
    "from tensorflow.keras.preprocessing.image import load_img, img_to_array\n",
    "from helpers import *"
   ]
  },
  {
   "cell_type": "code",
   "execution_count": 12,
   "id": "daba9557",
   "metadata": {},
   "outputs": [],
   "source": [
    "model = load_model('image_classification_model.keras')"
   ]
  },
  {
   "cell_type": "code",
   "execution_count": 3,
   "id": "8b8db7ad",
   "metadata": {},
   "outputs": [],
   "source": [
    "image_size = (150, 150)\n",
    "classes = ['bream', 'dusky_flathead', 'silver_trevally', 'snapper', 'yellowtail_amberjack']\n",
    "test_data_dir = 'test_data'\n",
    "processed_test_data_dir = 'processed_test_data'"
   ]
  },
  {
   "cell_type": "code",
   "execution_count": 4,
   "id": "faff54d5",
   "metadata": {},
   "outputs": [],
   "source": [
    "allowed_image_exts = {'.jpeg', '.jpg', '.png'}\n",
    "min_image_size_kb = 5\n",
    "max_image_size_kb = 10000 # 10 mb"
   ]
  },
  {
   "cell_type": "code",
   "execution_count": 5,
   "id": "6a18a108",
   "metadata": {},
   "outputs": [],
   "source": [
    "def process_test_data_dir(test_data_dir, processed_test_data_dir, min_size_kb, max_size_kb):\n",
    "\n",
    "    Path(processed_test_data_dir).mkdir(parents=True, exist_ok=True)\n",
    "    \n",
    "    for root, dirs, files in os.walk(test_data_dir):\n",
    "        if dirs:\n",
    "            print(\"Only files in test data directory\")\n",
    "            return False\n",
    "        if not files:\n",
    "            print(f\"No files found in {root}\")\n",
    "            return False\n",
    "        else:\n",
    "            process_files(files, processed_test_data_dir, root, allowed_image_exts, min_image_size_kb, max_image_size_kb)\n",
    "            print(\"Test data processed\")\n",
    "            return True"
   ]
  },
  {
   "cell_type": "code",
   "execution_count": 6,
   "id": "665c0a8e",
   "metadata": {
    "scrolled": true
   },
   "outputs": [
    {
     "name": "stdout",
     "output_type": "stream",
     "text": [
      "Processing file: test_data/test_snapper.jpeg\n",
      "Output file already exists: processed_test_data/no_bg_test_snapper.png. Skipping process.\n",
      "Processing file: test_data/test_bream.jpeg\n",
      "Output file already exists: processed_test_data/no_bg_test_bream.png. Skipping process.\n",
      "Processing file: test_data/test_silver_trevally.jpeg\n",
      "Output file already exists: processed_test_data/no_bg_test_silver_trevally.png. Skipping process.\n",
      "Processing file: test_data/test_dusky_flathead.jpeg\n",
      "Output file already exists: processed_test_data/no_bg_test_dusky_flathead.png. Skipping process.\n",
      "Processing file: test_data/test_yellowtail_amberjack.png\n",
      "Output file already exists: processed_test_data/no_bg_test_yellowtail_amberjack.png. Skipping process.\n",
      "Test data processed\n"
     ]
    },
    {
     "data": {
      "text/plain": [
       "True"
      ]
     },
     "execution_count": 6,
     "metadata": {},
     "output_type": "execute_result"
    }
   ],
   "source": [
    "process_test_data_dir(test_data_dir, processed_test_data_dir, 5, 10000)"
   ]
  },
  {
   "cell_type": "code",
   "execution_count": 13,
   "id": "12dd5616",
   "metadata": {
    "scrolled": false
   },
   "outputs": [
    {
     "name": "stdout",
     "output_type": "stream",
     "text": [
      "processed_test_data/no_bg_test_yellowtail_amberjack.png\n",
      "processed_test_data/no_bg_test_snapper.png\n",
      "processed_test_data/no_bg_test_silver_trevally.png\n",
      "processed_test_data/no_bg_test_bream.png\n",
      "processed_test_data/no_bg_test_dusky_flathead.png\n",
      "\u001b[1m1/1\u001b[0m \u001b[32m━━━━━━━━━━━━━━━━━━━━\u001b[0m\u001b[37m\u001b[0m \u001b[1m0s\u001b[0m 42ms/step\n",
      "Image: processed_test_data/no_bg_test_yellowtail_amberjack.png - Predicted Class: silver_trevally\n",
      "\u001b[1m1/1\u001b[0m \u001b[32m━━━━━━━━━━━━━━━━━━━━\u001b[0m\u001b[37m\u001b[0m \u001b[1m0s\u001b[0m 10ms/step\n",
      "Image: processed_test_data/no_bg_test_snapper.png - Predicted Class: snapper\n",
      "\u001b[1m1/1\u001b[0m \u001b[32m━━━━━━━━━━━━━━━━━━━━\u001b[0m\u001b[37m\u001b[0m \u001b[1m0s\u001b[0m 11ms/step\n",
      "Image: processed_test_data/no_bg_test_silver_trevally.png - Predicted Class: silver_trevally\n",
      "\u001b[1m1/1\u001b[0m \u001b[32m━━━━━━━━━━━━━━━━━━━━\u001b[0m\u001b[37m\u001b[0m \u001b[1m0s\u001b[0m 11ms/step\n",
      "Image: processed_test_data/no_bg_test_bream.png - Predicted Class: bream\n",
      "\u001b[1m1/1\u001b[0m \u001b[32m━━━━━━━━━━━━━━━━━━━━\u001b[0m\u001b[37m\u001b[0m \u001b[1m0s\u001b[0m 12ms/step\n",
      "Image: processed_test_data/no_bg_test_dusky_flathead.png - Predicted Class: dusky_flathead\n"
     ]
    }
   ],
   "source": [
    "test_image_file_paths = []\n",
    "\n",
    "for root, dirs, files in os.walk(processed_test_data_dir):\n",
    "    for file in files:\n",
    "        if file.lower() == '.ds_store':\n",
    "            continue\n",
    "        file_path = os.path.join(root, file)\n",
    "        print(file_path)\n",
    "        test_image_file_paths.append(file_path)\n",
    "\n",
    "for image_path in test_image_file_paths:\n",
    "    test_image = preprocess_image(image_path, image_size)\n",
    "    prediction = model.predict(test_image)\n",
    "    predicted_class_index = np.argmax(prediction)\n",
    "    predicted_class_label = classes[predicted_class_index]\n",
    "    print(f\"Image: {image_path} - Predicted Class: {predicted_class_label}\")"
   ]
  }
 ],
 "metadata": {
  "kernelspec": {
   "display_name": "Python 3 (ipykernel)",
   "language": "python",
   "name": "python3"
  },
  "language_info": {
   "codemirror_mode": {
    "name": "ipython",
    "version": 3
   },
   "file_extension": ".py",
   "mimetype": "text/x-python",
   "name": "python",
   "nbconvert_exporter": "python",
   "pygments_lexer": "ipython3",
   "version": "3.11.4"
  }
 },
 "nbformat": 4,
 "nbformat_minor": 5
}
