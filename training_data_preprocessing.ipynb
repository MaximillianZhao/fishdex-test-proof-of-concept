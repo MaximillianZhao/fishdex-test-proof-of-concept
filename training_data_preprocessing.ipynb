{
 "cells": [
  {
   "cell_type": "code",
   "execution_count": 1,
   "id": "078aa5d4",
   "metadata": {},
   "outputs": [],
   "source": [
    "import os\n",
    "from pathlib import Path\n",
    "from rembg import remove\n",
    "from PIL import Image\n",
    "from helpers import *"
   ]
  },
  {
   "cell_type": "code",
   "execution_count": 2,
   "id": "4126cc15",
   "metadata": {},
   "outputs": [],
   "source": [
    "classes = ['bream', 'dusky_flathead', 'silver_trevally', 'snapper', 'yellowtail_amberjack'] "
   ]
  },
  {
   "cell_type": "code",
   "execution_count": 3,
   "id": "b9941758",
   "metadata": {},
   "outputs": [],
   "source": [
    "data_dir = 'data'\n",
    "processed_data_dir = 'processed_data'"
   ]
  },
  {
   "cell_type": "code",
   "execution_count": 4,
   "id": "c447950a",
   "metadata": {},
   "outputs": [],
   "source": [
    "allowed_image_exts = {'.jpeg', '.jpg', '.png'}\n",
    "min_image_size_kb = 5\n",
    "max_image_size_kb = 10000 # 10 mb"
   ]
  },
  {
   "cell_type": "code",
   "execution_count": 5,
   "id": "91c647e5",
   "metadata": {},
   "outputs": [],
   "source": [
    "def process_class_dir(class_dir_path, \n",
    "                      processed_class_dir_path, \n",
    "                      allowed_image_exts, \n",
    "                      min_image_size_kb, \n",
    "                      max_image_size_kb):\n",
    "    \n",
    "    for root, dirs, files in os.walk(class_dir_path):\n",
    "        if dirs:\n",
    "            print(\"Only files in data class directories\")\n",
    "            return False\n",
    "        if not files:\n",
    "            print(f\"No files found in {root}\")\n",
    "            return False\n",
    "        else:\n",
    "            process_files(files, processed_class_dir_path, root, allowed_image_exts, min_image_size_kb, max_image_size_kb)\n",
    "            return True\n",
    "\n",
    "def process_class_data_dirs(data_dir, \n",
    "                            processed_data_dir, \n",
    "                            classes, \n",
    "                            allowed_image_exts, \n",
    "                            min_image_size_kb, \n",
    "                            max_image_size_kb):\n",
    "    \n",
    "    if not is_existing_dir(data_dir):\n",
    "        print(f\"Data directory not found\")\n",
    "        return False\n",
    "    \n",
    "    Path(processed_data_dir).mkdir(parents=True, exist_ok=True)\n",
    "    \n",
    "    for class_name in classes:\n",
    "\n",
    "        class_dir_path = os.path.join(data_dir, class_name)\n",
    "        \n",
    "        if not is_existing_dir(class_dir_path):\n",
    "            print(f\"There is no directory containing data for class: {class_name}.\")\n",
    "            continue\n",
    "\n",
    "        processed_class_dir_path = os.path.join(processed_data_dir, \"processed_\" + class_name)\n",
    "        Path(processed_class_dir_path).mkdir(parents=True, exist_ok=True)\n",
    "        \n",
    "        print(f\"Processing class directory: {class_name}\")\n",
    "        process_class_dir(class_dir_path, processed_class_dir_path, allowed_image_exts, min_image_size_kb, max_image_size_kb)\n",
    "    \n",
    "    print(\"Data processed\")\n",
    "    \n",
    "    return True\n"
   ]
  },
  {
   "cell_type": "code",
   "execution_count": 6,
   "id": "df42141d",
   "metadata": {},
   "outputs": [
    {
     "name": "stdout",
     "output_type": "stream",
     "text": [
      "Processing class directory: bream\n",
      "Processing file: data/bream/bream1.jpeg\n",
      "Output file already exists: processed_data/processed_bream/no_bg_bream1.png. Skipping process.\n",
      "Processing file: data/bream/bream2.jpeg\n",
      "Output file already exists: processed_data/processed_bream/no_bg_bream2.png. Skipping process.\n",
      "Processing file: data/bream/bream3.jpeg\n",
      "Output file already exists: processed_data/processed_bream/no_bg_bream3.png. Skipping process.\n",
      "Processing file: data/bream/bream4.jpeg\n",
      "Output file already exists: processed_data/processed_bream/no_bg_bream4.png. Skipping process.\n",
      "Processing file: data/bream/bream5.jpeg\n",
      "Output file already exists: processed_data/processed_bream/no_bg_bream5.png. Skipping process.\n",
      "Processing class directory: dusky_flathead\n",
      "Processing file: data/dusky_flathead/dusky_flathead2.jpeg\n",
      "Output file already exists: processed_data/processed_dusky_flathead/no_bg_dusky_flathead2.png. Skipping process.\n",
      "Processing file: data/dusky_flathead/dusky_flathead3.jpeg\n",
      "Output file already exists: processed_data/processed_dusky_flathead/no_bg_dusky_flathead3.png. Skipping process.\n",
      "Processing file: data/dusky_flathead/dusky_flathead4.jpeg\n",
      "Output file already exists: processed_data/processed_dusky_flathead/no_bg_dusky_flathead4.png. Skipping process.\n",
      "Processing file: data/dusky_flathead/dusky_flathead5.jpeg\n",
      "Output file already exists: processed_data/processed_dusky_flathead/no_bg_dusky_flathead5.png. Skipping process.\n",
      "Processing file: data/dusky_flathead/dusky_flathead1.jpeg\n",
      "Output file already exists: processed_data/processed_dusky_flathead/no_bg_dusky_flathead1.png. Skipping process.\n",
      "Processing class directory: silver_trevally\n",
      "Processing file: data/silver_trevally/silver_trevally3.jpeg\n",
      "Output file already exists: processed_data/processed_silver_trevally/no_bg_silver_trevally3.png. Skipping process.\n",
      "Processing file: data/silver_trevally/silver_trevally2.jpeg\n",
      "Output file already exists: processed_data/processed_silver_trevally/no_bg_silver_trevally2.png. Skipping process.\n",
      "Processing file: data/silver_trevally/silver_trevally5.jpeg\n",
      "Output file already exists: processed_data/processed_silver_trevally/no_bg_silver_trevally5.png. Skipping process.\n",
      "Processing file: data/silver_trevally/silver_trevally4.jpeg\n",
      "Output file already exists: processed_data/processed_silver_trevally/no_bg_silver_trevally4.png. Skipping process.\n",
      "Processing file: data/silver_trevally/silver_trevally1.jpeg\n",
      "Output file already exists: processed_data/processed_silver_trevally/no_bg_silver_trevally1.png. Skipping process.\n",
      "Processing class directory: snapper\n",
      "Processing file: data/snapper/snapper4.jpeg\n",
      "Output file already exists: processed_data/processed_snapper/no_bg_snapper4.png. Skipping process.\n",
      "Processing file: data/snapper/snapper5.jpeg\n",
      "Output file already exists: processed_data/processed_snapper/no_bg_snapper5.png. Skipping process.\n",
      "Processing file: data/snapper/snapper2.jpeg\n",
      "Output file already exists: processed_data/processed_snapper/no_bg_snapper2.png. Skipping process.\n",
      "Processing file: data/snapper/snapper3.jpeg\n",
      "Output file already exists: processed_data/processed_snapper/no_bg_snapper3.png. Skipping process.\n",
      "Processing file: data/snapper/snapper1.jpeg\n",
      "Output file already exists: processed_data/processed_snapper/no_bg_snapper1.png. Skipping process.\n",
      "Processing class directory: yellowtail_amberjack\n",
      "Processing file: data/yellowtail_amberjack/yellowtail_amberjack2.jpeg\n",
      "Output file already exists: processed_data/processed_yellowtail_amberjack/no_bg_yellowtail_amberjack2.png. Skipping process.\n",
      "Processing file: data/yellowtail_amberjack/yellowtail_amberjack3.jpeg\n",
      "Output file already exists: processed_data/processed_yellowtail_amberjack/no_bg_yellowtail_amberjack3.png. Skipping process.\n",
      "Processing file: data/yellowtail_amberjack/yellowtail_amberjack4.jpeg\n",
      "Output file already exists: processed_data/processed_yellowtail_amberjack/no_bg_yellowtail_amberjack4.png. Skipping process.\n",
      "Processing file: data/yellowtail_amberjack/yellowtail_amberjack5.jpeg\n",
      "Output file already exists: processed_data/processed_yellowtail_amberjack/no_bg_yellowtail_amberjack5.png. Skipping process.\n",
      "Processing file: data/yellowtail_amberjack/yellowtail_amberjack1.jpeg\n",
      "Output file already exists: processed_data/processed_yellowtail_amberjack/no_bg_yellowtail_amberjack1.png. Skipping process.\n",
      "Data processed\n"
     ]
    },
    {
     "data": {
      "text/plain": [
       "True"
      ]
     },
     "execution_count": 6,
     "metadata": {},
     "output_type": "execute_result"
    }
   ],
   "source": [
    "process_class_data_dirs(data_dir, processed_data_dir, classes, allowed_image_exts, min_image_size_kb, max_image_size_kb)  "
   ]
  }
 ],
 "metadata": {
  "kernelspec": {
   "display_name": "Python 3 (ipykernel)",
   "language": "python",
   "name": "python3"
  },
  "language_info": {
   "codemirror_mode": {
    "name": "ipython",
    "version": 3
   },
   "file_extension": ".py",
   "mimetype": "text/x-python",
   "name": "python",
   "nbconvert_exporter": "python",
   "pygments_lexer": "ipython3",
   "version": "3.11.4"
  }
 },
 "nbformat": 4,
 "nbformat_minor": 5
}
